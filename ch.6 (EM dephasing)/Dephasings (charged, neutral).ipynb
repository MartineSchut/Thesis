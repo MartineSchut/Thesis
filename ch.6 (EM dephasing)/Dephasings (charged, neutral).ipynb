{
 "cells": [
  {
   "cell_type": "code",
   "execution_count": 1,
   "metadata": {},
   "outputs": [],
   "source": [
    "import numpy as np\n",
    "from scipy.integrate import quad\n",
    "from scipy.special import kn, kv\n",
    "from matplotlib import rc\n",
    "from scipy.constants import hbar, epsilon_0, e, k, m_e\n",
    "from scipy.constants import physical_constants\n",
    "import matplotlib.pyplot as plt\n",
    "#import scienceplots"
   ]
  },
  {
   "cell_type": "code",
   "execution_count": 2,
   "metadata": {},
   "outputs": [],
   "source": [
    "# Value for the T that is in the integration\n",
    "def T_n(V, b, coef):\n",
    "    return coef*b/V"
   ]
  },
  {
   "cell_type": "code",
   "execution_count": 3,
   "metadata": {},
   "outputs": [],
   "source": [
    "# Experimental constants\n",
    "T_A_val = 0.5 # Acceleration time in seconds\n",
    "T_E_val = 1 # Free-fall time in seconds\n",
    "dX_val = 20e-6 # Superposition size in meters\n",
    "W_min = 2*np.pi/(4*T_A_val+T_E_val) # Minimum frequency in integral"
   ]
  },
  {
   "cell_type": "markdown",
   "metadata": {},
   "source": [
    "# Charged interferometer"
   ]
  },
  {
   "cell_type": "code",
   "execution_count": 4,
   "metadata": {},
   "outputs": [],
   "source": [
    "# projection angles:\n",
    "beta = 0\n",
    "alpha = 0\n",
    "# Experimental parameters variables\n",
    "n_values = np.array([1, 10, 100]) # Number of particles values list"
   ]
  },
  {
   "cell_type": "markdown",
   "metadata": {},
   "source": [
    "# Charge-Charge\n",
    "\n",
    "Velocity as variable"
   ]
  },
  {
   "cell_type": "code",
   "execution_count": 5,
   "metadata": {},
   "outputs": [],
   "source": [
    "# Charge-charge decoherence function\n",
    "def gamma_cc(w, t_a, t_e, b, v):\n",
    "    int_cc = w**(-4) * (np.sin(w*t_a/2))**4 * (np.sin((w/2)*(2*t_a+t_e)))**2 * ((np.cos(alpha)*kn(1, w*b/v))**2 + (np.cos(beta)*kn(0, w*b/v))**2)\n",
    "    return int_cc\n",
    "\n",
    "# Constant for decoherence eqn.\n",
    "def constant_cc(n, v, b, dX, t_a, T_noise):\n",
    "    c1 = (n*e)**2*e**2*dX**2\n",
    "    c2 = np.pi**3*hbar**2*epsilon_0**2*v**4*t_a**4*T_noise\n",
    "    return c1/c2\n",
    "\n",
    "# Reset\n",
    "integral_values = [[],[],[]]\n",
    "integral_error = [[],[],[]]\n",
    "constants_values = [[],[],[]]\n",
    "\n",
    "# Specific values for this setup\n",
    "# v_values = np.logspace(-1.7, -0.5, 10)\n",
    "# B_val = 1\n",
    "v_values = np.logspace(-6, -4.9, 300)\n",
    "B_val = 1e-4\n",
    "\n",
    "# loop over different number of charges:\n",
    "for j in np.array([0,1,2]):\n",
    "    # loop over different velocities:\n",
    "    for i in v_values:\n",
    "        T_noise_val = T_n(i, B_val, 1) # find the value of T_n\n",
    "        n_j = n_values[j] # define the number of remnant charges on the crystal\n",
    "        res, err = quad(gamma_cc, W_min, np.inf, args=(T_A_val, T_E_val, B_val, i)) # numerical integration\n",
    "        integral_values[j].append(res)\n",
    "        integral_error[j].append(err)\n",
    "        constants_values[j].append(constant_cc(n_j, i, B_val, dX_val, T_A_val, T_noise_val)) # constant values\n",
    "        # print some results to get an idea, number of points printed managed by last number in v_values above loop:\n",
    "#         print(i)\n",
    "#         print(res)\n",
    "#         print(err)\n",
    "#         print(constants_values[j])\n",
    "\n",
    "gamma_cc = np.array(integral_values)*np.array(constants_values)\n",
    "# print(gamma_cc)"
   ]
  },
  {
   "cell_type": "markdown",
   "metadata": {},
   "source": [
    "### Plot\n",
    "As a function of velocity (have to redefine loops above to get this plot)"
   ]
  },
  {
   "cell_type": "code",
   "execution_count": 7,
   "metadata": {},
   "outputs": [
    {
     "data": {
      "image/png": "[encoded data removed]",
      "text/plain": [
       "<Figure size 288x252 with 1 Axes>"
      ]
     },
     "metadata": {
      "needs_background": "light"
     },
     "output_type": "display_data"
    }
   ],
   "source": [
    "#plt.style.use(['science', 'ieee'])\n",
    "plt.figure(figsize=(4.0,3.5))\n",
    "plt.plot(v_values, gamma_cc[0], 'k-', label=(r'$q_{int}$' f' = {n_values[0]}e'))\n",
    "plt.plot(v_values, gamma_cc[1], 'r--', label=(r'$q_{int}$' f' = {n_values[1]}e'))\n",
    "plt.plot(v_values, gamma_cc[2],  'g-.', label=(r'$q_{int}$' f' = {n_values[2]}e'))\n",
    "\n",
    "plt.yscale('log')\n",
    "plt.xscale('log')\n",
    "plt.legend()\n",
    "plt.ylabel(r'$\\Gamma_{n}^{cc}$',fontsize=12)\n",
    "plt.xlim(v_values[0], v_values[len(v_values)-1])\n",
    "plt.ylim(bottom=1e-90, top=1e3)\n",
    "plt.legend(loc='lower right')\n",
    "plt.xlabel(r'$v$ (m s$^{-1}$)',fontsize=12)\n",
    "plt.text(10**(-5.97), 1e-3, '(a)', fontsize=12)\n",
    "#plt.title('(a)')\n",
    "plt.tight_layout()\n",
    "#plt.savefig('noise-cc-v-2.png', dpi=800)"
   ]
  },
  {
   "cell_type": "code",
   "execution_count": 9,
   "metadata": {},
   "outputs": [
    {
     "name": "stdout",
     "output_type": "stream",
     "text": [
      "0.00012312071950724358 0.01231207195072436 1.231207195072436\n"
     ]
    }
   ],
   "source": [
    "print(max(gamma_cc[0]),max(gamma_cc[1]),max(gamma_cc[2]))"
   ]
  },
  {
   "cell_type": "code",
   "execution_count": 11,
   "metadata": {},
   "outputs": [
    {
     "name": "stdout",
     "output_type": "stream",
     "text": [
      "0.0012312071950724359 0.12312071950724361 12.31207195072436\n"
     ]
    }
   ],
   "source": [
    "print(max(gamma_cc[0]),max(gamma_cc[1]),max(gamma_cc[2]))"
   ]
  },
  {
   "cell_type": "markdown",
   "metadata": {},
   "source": [
    "One order of mangitude increase (as expected since b/v~10^(1/2) so (b/v)^2 ~ 10)"
   ]
  },
  {
   "cell_type": "markdown",
   "metadata": {},
   "source": [
    "# Charge-Dipole\n",
    "\n",
    "Temperature as variable\n",
    "\n",
    "#### Additional constants"
   ]
  },
  {
   "cell_type": "code",
   "execution_count": 10,
   "metadata": {},
   "outputs": [],
   "source": [
    "# Experimental constants permanent external dipole\n",
    "D_water_val = 6.17*10**(-30) # permanent dipole moment of water\n",
    "\n",
    "# Experimental constants induced external dipole\n",
    "polar_atom_val = 1.710*4*np.pi*epsilon_0*1e-24*1e-6\n",
    "#polar_atom_val = 1.710*1e-30 #4*np.pi*epsilon_0*1.710 # polarisability (N2)\n",
    "#polar_atom_val = 1.710*1e-6*4*np.pi*epsilon_0"
   ]
  },
  {
   "cell_type": "code",
   "execution_count": 11,
   "metadata": {},
   "outputs": [
    {
     "data": {
      "text/plain": [
       "5.479444088279998e-49"
      ]
     },
     "execution_count": 11,
     "metadata": {},
     "output_type": "execute_result"
    }
   ],
   "source": [
    "polar_atom_val*2*e/(4*np.pi*epsilon_0)"
   ]
  },
  {
   "cell_type": "markdown",
   "metadata": {},
   "source": [
    "## Permanent external dipole"
   ]
  },
  {
   "cell_type": "code",
   "execution_count": 76,
   "metadata": {},
   "outputs": [],
   "source": [
    "# Permanent external dipole\n",
    "def gamma_cd_per(w, t_a, t_e, b, v):\n",
    "    f_W = w**(-6) * (np.sin(w*t_a/2))**4 * (np.sin((w/2)*(2*t_a+t_e)))**2\n",
    "    psd = w**3 * ( (np.cos(alpha)*kv(1.5, (w*b)/v))**2 + (np.cos(beta)*kv(0.5, (w*b)/v))**2 )\n",
    "    return psd*f_W\n",
    "\n",
    "def constant_cd_per(b, v, t_a, dip, dx, T_noise, n):\n",
    "    c1 = (n*e)**2*dip**2*dx**2\n",
    "    c2 = 2*np.pi**2*hbar**2*epsilon_0**2*v**5*b*t_a**4*T_noise\n",
    "    return c1/c2\n",
    "\n",
    "# Specific for this setup\n",
    "# v_values = np.logspace(-2, -1.5, 200) # Temperature values list\n",
    "# B_val = 0.1 # impact parameter\n",
    "v_values = np.logspace(-6, -4.9, 300)\n",
    "B_val = 1e-4\n",
    "\n",
    "# Reset\n",
    "integral_values = [[],[],[]]\n",
    "integral_error = [[],[],[]]\n",
    "constants_values = [[],[],[]]\n",
    "\n",
    "for j in np.array([0,1,2]):\n",
    "    for i in v_values:\n",
    "        T_noise_val = T_n(i, B_val, 1)\n",
    "        n_j = n_values[j]\n",
    "        res, err = quad(gamma_cd_per, W_min, np.inf, args=(T_A_val, T_E_val, B_val, i))\n",
    "        integral_values[j].append(res)\n",
    "        integral_error[j].append(err)\n",
    "        constants_values[j].append(constant_cd_per(B_val, i, T_A_val, D_water_val, dX_val, T_noise_val, n_j))\n",
    "\n",
    "gamma_cd_per = np.array(integral_values)*np.array(constants_values)"
   ]
  },
  {
   "cell_type": "code",
   "execution_count": 75,
   "metadata": {},
   "outputs": [
    {
     "data": {
      "text/plain": [
       "252.04631991593965"
      ]
     },
     "execution_count": 75,
     "metadata": {},
     "output_type": "execute_result"
    }
   ],
   "source": [
    "max(gamma_cd_per[2])"
   ]
  },
  {
   "cell_type": "markdown",
   "metadata": {},
   "source": [
    "#### Plot"
   ]
  },
  {
   "cell_type": "code",
   "execution_count": 81,
   "metadata": {},
   "outputs": [
    {
     "data": {
      "image/png": "[encoded data removed]",
      "text/plain": [
       "<Figure size 288x252 with 1 Axes>"
      ]
     },
     "metadata": {
      "needs_background": "light"
     },
     "output_type": "display_data"
    }
   ],
   "source": [
    "#plt.style.use(['science', 'ieee'])\n",
    "plt.figure(figsize=(4.0,3.5))\n",
    "plt.plot(v_values, gamma_cd_per[0], 'k-', label=(r'$q_{int}$' f' = {n_values[0]}e'))\n",
    "plt.plot(v_values, gamma_cd_per[1], 'r--', label=(r'$q_{int}$' f' = {n_values[1]}e'))\n",
    "plt.plot(v_values, gamma_cd_per[2],  'g-.', label=(r'$q_{int}$' f' = {n_values[2]}e'))\n",
    "plt.yscale('log')\n",
    "plt.xscale('log')\n",
    "plt.legend()\n",
    "plt.ylabel(r'$\\Gamma_{n}^{cd(p)}$',fontsize=12)\n",
    "plt.xlim(v_values[0], v_values[len(v_values)-1])\n",
    "#plt.ylim(gamma_cd_per[0][0], gamma_cd_per[2][len(v_values)-1])\n",
    "plt.ylim(bottom = 1e-90)\n",
    "plt.legend(loc='lower right')\n",
    "plt.xlabel(r'$v$ (m s$^{-1}$)',fontsize=12)\n",
    "plt.text(10**(-5.97), 1e-3, '(b)', fontsize=12)\n",
    "plt.tight_layout()\n",
    "#plt.savefig('noise-cd-per-v-2.png', dpi=800)"
   ]
  },
  {
   "cell_type": "markdown",
   "metadata": {},
   "source": [
    "## Induced external dipole"
   ]
  },
  {
   "cell_type": "code",
   "execution_count": 99,
   "metadata": {},
   "outputs": [],
   "source": [
    "# Induced external dipole\n",
    "def gamma_cd_ind(w, t_a, t_e, b, v):\n",
    "    int_cd_ind = w**(-1) * (np.sin(w*t_a/2))**4 * (np.sin((w/2)*(2*t_a+t_e)))**2 * ( (np.cos(alpha) * kv(5/2, (w*b)/v))**2 + (np.cos(beta) * kv(3/2, (w*b)/v))**2 )\n",
    "    return int_cd_ind\n",
    "\n",
    "def constant_cd_ind(b, v, t_a, polar, dx, T_avg, n):\n",
    "    c1 = (n*e)**4 * dx**2 * polar**2\n",
    "    c2 = 512 * np.pi**4 * hbar**2 * epsilon_0**4 * v**7 * b**3 * t_a**4 * T_avg\n",
    "    return c1/c2\n",
    "\n",
    "# Specific for this setup\n",
    "# v_values = np.logspace(-2, -1.4, 200) # Temperature values list\n",
    "# B_val = 0.1 # impact parameter\n",
    "v_values = np.logspace(-6, -4.9, 300)\n",
    "B_val = 3*10**(-5)\n",
    "\n",
    "# Reset\n",
    "integral_values = [[],[],[]]\n",
    "integral_error = [[],[],[]]\n",
    "constants_values = [[],[],[]]\n",
    "\n",
    "for j in np.array([0,1,2]):\n",
    "    for i in v_values:\n",
    "        T_noise_val = T_n(i, B_val, 1)\n",
    "        n_j = n_values[j]\n",
    "        res1, err1 = quad(gamma_cd_ind, W_min, np.inf, args=(T_A_val, T_E_val, B_val, i))\n",
    "        integral_values[j].append(res1)\n",
    "        integral_error[j].append(err1)\n",
    "        constants_values[j].append(constant_cd_ind(B_val, i, T_A_val, polar_atom_val, dX_val, T_noise_val, n_j))\n",
    "\n",
    "gamma_cd_ind = np.array(integral_values)*np.array(constants_values)\n",
    "#print(constant_cd_ind(1, 1, T_A_val, polar_atom_val, dX_val, 1, 1))"
   ]
  },
  {
   "cell_type": "code",
   "execution_count": 106,
   "metadata": {},
   "outputs": [
    {
     "data": {
      "image/png": "[encoded data removed]",
      "text/plain": [
       "<Figure size 288x252 with 1 Axes>"
      ]
     },
     "metadata": {
      "needs_background": "light"
     },
     "output_type": "display_data"
    }
   ],
   "source": [
    "#plt.style.use(['science', 'ieee'])\n",
    "plt.figure(figsize=(4.0,3.5))\n",
    "plt.plot(v_values, gamma_cd_ind[0], 'k-', label=(r'$q_{int}$' f' = {n_values[0]}e'))\n",
    "plt.plot(v_values, gamma_cd_ind[1], 'r--', label=(r'$q_{int}$' f' = {n_values[1]}e'))\n",
    "plt.plot(v_values, gamma_cd_ind[2],  'g-.', label=(r'$q_{int}$' f' = {n_values[2]}e'))\n",
    "\n",
    "plt.yscale('log')\n",
    "plt.xscale('log')\n",
    "plt.ylabel(r'$\\Gamma_{n}^{cd(i)}$', fontsize=12)\n",
    "plt.xlim(v_values[0], v_values[len(v_values)-1])\n",
    "plt.ylim(bottom=gamma_cd_ind[0][0])#, gamma_cd_ind[2][len(v_values)-1]\n",
    "plt.legend(loc='lower right')\n",
    "plt.xlabel(r'$v$ (m s$^{-1}$)',fontsize=12)\n",
    "plt.text(10**(-5.98), 10**(-8), '(c)', fontsize=12)\n",
    "plt.tight_layout()\n",
    "#plt.savefig('noise-cd-ind-v-2.png', dpi=800)"
   ]
  },
  {
   "cell_type": "code",
   "execution_count": 107,
   "metadata": {},
   "outputs": [
    {
     "name": "stdout",
     "output_type": "stream",
     "text": [
      "3699608797.5302987\n"
     ]
    }
   ],
   "source": [
    "print(gamma_cd_ind[2][len(v_values)-1])"
   ]
  },
  {
   "cell_type": "code",
   "execution_count": 107,
   "metadata": {},
   "outputs": [
    {
     "name": "stdout",
     "output_type": "stream",
     "text": [
      "72526.27125904096\n",
      "3.0146928747242555e-07\n",
      "3.291237743070534e-15\n"
     ]
    }
   ],
   "source": [
    "print(max(gamma_cc[0]))\n",
    "print(max(gamma_cd_per[0]))\n",
    "print(max(gamma_cd_ind[0]))"
   ]
  },
  {
   "cell_type": "markdown",
   "metadata": {},
   "source": [
    "# All charged interactions"
   ]
  },
  {
   "cell_type": "code",
   "execution_count": 123,
   "metadata": {},
   "outputs": [],
   "source": [
    "# additional values:\n",
    "# vel = 0.03\n",
    "# B_val_list = np.logspace(-1, 1, 300)\n",
    "vel = 1e-6\n",
    "B_val_list = np.logspace(-5, -3.9, 300)"
   ]
  },
  {
   "cell_type": "code",
   "execution_count": 124,
   "metadata": {},
   "outputs": [],
   "source": [
    "# Charge-charge\n",
    "def gamma_cc(w, t_a, t_e, b, v):\n",
    "    int_cc = w**(-4) * (np.sin(w*t_a/2))**4 * (np.sin((w/2)*(2*t_a+t_e)))**2 * ((np.cos(alpha)*kn(1, w*b/v))**2 + (np.cos(beta)*kn(0, w*b/v))**2)\n",
    "    return int_cc\n",
    "\n",
    "def constant_cc(n, v, b, dX, t_a, T_n):\n",
    "    c1 = (n*e)**2*e**2*dX**2\n",
    "    c2 = np.pi**3*hbar**2*epsilon_0**2*v**4*t_a**4*T_n\n",
    "    return c1/c2\n",
    "\n",
    "# Reset\n",
    "integral_values = []\n",
    "constants_values = []\n",
    "\n",
    "for i in B_val_list:\n",
    "    T_noise_val = T_n(vel, i, 1)\n",
    "    n_value = n_values[0]\n",
    "    res, err = quad(gamma_cc, W_min, np.inf, args=(T_A_val, T_E_val, i, vel))\n",
    "    integral_values.append(res)\n",
    "    constants_values.append(constant_cc(n_value, vel, i, dX_val, T_A_val, T_noise_val))\n",
    "\n",
    "gamma_cc = np.array(integral_values)*np.array(constants_values)"
   ]
  },
  {
   "cell_type": "code",
   "execution_count": 125,
   "metadata": {},
   "outputs": [],
   "source": [
    "# Permanent external dipole\n",
    "def gamma_cd_per(w, t_a, t_e, b, v):\n",
    "    f_W = w**(-6) * (np.sin(w*t_a/2))**4 * (np.sin((w/2)*(2*t_a+t_e)))**2\n",
    "    psd = w**3 * ( (np.cos(alpha)*kv(1.5, (w*b)/v))**2 + (np.cos(beta)*kv(0.5, (w*b)/v))**2 )\n",
    "    return psd*f_W\n",
    "\n",
    "def constant_cd_per(b, v, t_a, dip, dx, T_n, n):\n",
    "    c1 = (n*e)**2*dip**2*dx**2\n",
    "    c2 = 2*np.pi**2*hbar**2*epsilon_0**2*v**5*b*t_a**4*T_n\n",
    "    return c1/c2\n",
    "\n",
    "# Reset\n",
    "integral_values = []\n",
    "constants_values = []\n",
    "\n",
    "for i in B_val_list:\n",
    "    T_noise_val = T_n(vel, i, 1)\n",
    "    n_value = n_values[0]\n",
    "    res, err = quad(gamma_cd_per, W_min, np.inf, args=(T_A_val, T_E_val, i, vel))\n",
    "    integral_values.append(res)\n",
    "    constants_values.append(constant_cd_per(i, vel, T_A_val, D_water_val, dX_val, T_noise_val, n_value))\n",
    "\n",
    "gamma_cd_per = np.array(integral_values)*np.array(constants_values)"
   ]
  },
  {
   "cell_type": "code",
   "execution_count": 126,
   "metadata": {},
   "outputs": [],
   "source": [
    "# Induced external dipole\n",
    "def gamma_cd_ind(w, t_a, t_e, b, v):\n",
    "    int_cd_ind = w**(-1) * (np.sin(w*t_a/2))**4 * (np.sin((w/2)*(2*t_a+t_e)))**2 * ( (np.cos(alpha) * kv(5/2, (w*b)/v))**2 + (np.cos(beta) * kv(3/2, (w*b)/v))**2 )\n",
    "    return int_cd_ind\n",
    "\n",
    "def constant_cd_ind(b, v, t_a, polar, dx, T_n, n):\n",
    "    c1 = (n*e)**4 * dx**2 * polar**2\n",
    "    c2 = 512 * np.pi**4 * hbar**2 * epsilon_0**4 * v**7 * b**3 * t_a**4 * T_n\n",
    "    return c1/c2\n",
    "\n",
    "# Reset\n",
    "integral_values = []\n",
    "constants_values = []\n",
    "\n",
    "for i in B_val_list:\n",
    "    T_noise_val = T_n(vel, i, 1)\n",
    "    n_value = n_values[0]\n",
    "    res, err = quad(gamma_cd_ind, W_min, np.inf, args=(T_A_val, T_E_val, i, vel))\n",
    "    integral_values.append(res)\n",
    "    constants_values.append(constant_cd_ind(i, vel, T_A_val, polar_atom_val, dX_val, T_noise_val, n_value))\n",
    "\n",
    "gamma_cd_ind = np.array(integral_values)*np.array(constants_values)"
   ]
  },
  {
   "cell_type": "code",
   "execution_count": 137,
   "metadata": {},
   "outputs": [
    {
     "data": {
      "image/png": "[encoded data removed]",
      "text/plain": [
       "<Figure size 288x252 with 1 Axes>"
      ]
     },
     "metadata": {
      "needs_background": "light"
     },
     "output_type": "display_data"
    }
   ],
   "source": [
    "plt.figure(figsize=(4.0,3.5))\n",
    "plt.plot(B_val_list, gamma_cd_ind, 'k-', label=(r'$cd(i)$') )\n",
    "plt.plot(B_val_list, gamma_cd_per, 'r--', label=(r'$cd(p)$') )\n",
    "plt.plot(B_val_list, gamma_cc,  'g-.', label=(r'$cc$') )\n",
    "plt.yscale('log')\n",
    "plt.xscale('log')\n",
    "plt.legend()\n",
    "plt.ylabel(r'$\\Gamma_{n}$', fontsize=12)\n",
    "plt.xlim(B_val_list[0], B_val_list[len(B_val_list)-1])\n",
    "plt.ylim(bottom=1e-90,top=1)\n",
    "plt.legend(loc='lower left')\n",
    "plt.xlabel(r'b (m)',fontsize=12)\n",
    "plt.text(10**(-4), 1e-7, '(d)', fontsize=12)\n",
    "plt.tight_layout()\n",
    "plt.savefig('noise-charged-b-2.png', dpi=800)"
   ]
  },
  {
   "cell_type": "markdown",
   "metadata": {},
   "source": [
    "# Neutral interferometer"
   ]
  },
  {
   "cell_type": "markdown",
   "metadata": {},
   "source": [
    "#### Additional constants"
   ]
  },
  {
   "cell_type": "code",
   "execution_count": 4,
   "metadata": {},
   "outputs": [],
   "source": [
    "d_int_val = e*1e-7 # interferometer dipole value\n",
    "eps_val = 5.7 # for diamond\n",
    "\n",
    "R_list = np.array([1, 0.1, 0.01]) # for microsphere - 10 nm\n",
    "bv_values = np.array([1,2,10])\n",
    "\n",
    "D_water_val = 6.17*10**(-30) # permanent dipole moment of water"
   ]
  },
  {
   "cell_type": "markdown",
   "metadata": {},
   "source": [
    "## Permanent interferometer dipole"
   ]
  },
  {
   "cell_type": "code",
   "execution_count": 38,
   "metadata": {},
   "outputs": [],
   "source": [
    "# Permanent interferometer dipole\n",
    "def gamma_dc_per(w, t_a, t_e, b, v):\n",
    "    f_W = w**(-6) * (np.sin(w*t_a/2))**4 * (np.sin((w/2)*(2*t_a+t_e)))**2\n",
    "    int_dc_per = w**(-2) * f_W * ( (kv(2, (w*b)/v))**2 + (2 + (w**2*b**2)/v**2)*(kv(1, (w*b)/v))**2 + (kv(0, (w*b)/v))**2 - 2*(w*b/v) * kv(0, (w*b)/v) * kv(1, (w*b)/v) )\n",
    "    return int_dc_per\n",
    "\n",
    "def constant_dc_per(b, v, t_a, dip, dx, T_n):\n",
    "    c1 = e**2*dip**2*dx**2\n",
    "    c2 = 9*np.pi**3*hbar**2*epsilon_0**2*v**6*t_a**4*T_n\n",
    "    return c1/c2\n",
    "\n",
    "# Specific for this setup\n",
    "# v_values = np.logspace(-1, -0.5, 300) # Temperature values list\n",
    "# B_val = 1 # impact parameter\n",
    "v_values = np.logspace(-6, -4.9, 300)\n",
    "B_val = 1e-4\n",
    "\n",
    "# reset\n",
    "integral_values = [[],[],[]]\n",
    "integral_error = [[],[],[]]\n",
    "constants_values = [[],[],[]]\n",
    "\n",
    "for j in np.array([0,1,2]):\n",
    "    for i in v_values:\n",
    "        T_noise_val = T_n(i, B_val, bv_values[j])\n",
    "        res, err = quad(gamma_dc_per, W_min, np.inf, args=(T_A_val, T_E_val, B_val, i))\n",
    "        integral_values[j].append(res)\n",
    "        integral_error[j].append(err)\n",
    "        constants_values[j].append(constant_dc_per(B_val, i, T_A_val, d_int_val, dX_val, T_noise_val))\n",
    "\n",
    "gamma_dc_per = np.array(integral_values)*np.array(constants_values)"
   ]
  },
  {
   "cell_type": "markdown",
   "metadata": {},
   "source": [
    "#### Plot"
   ]
  },
  {
   "cell_type": "code",
   "execution_count": 40,
   "metadata": {},
   "outputs": [
    {
     "data": {
      "image/png": "[encoded data removed]",
      "text/plain": [
       "<Figure size 288x252 with 1 Axes>"
      ]
     },
     "metadata": {
      "needs_background": "light"
     },
     "output_type": "display_data"
    }
   ],
   "source": [
    "#plt.style.use(['science', 'ieee'])\n",
    "plt.figure(figsize=(4.0,3.5))\n",
    "plt.plot(v_values, gamma_dc_per[0], 'k-', label=(r'$T$' f' = {bv_values[0]} b/v'))\n",
    "plt.plot(v_values, gamma_dc_per[1], 'r--', label=(r'$T$' f' = {bv_values[1]} b/v'))\n",
    "plt.plot(v_values, gamma_dc_per[2],  'g-.', label=(r'$T$' f' = {bv_values[2]} b/v'))\n",
    "plt.yscale('log')\n",
    "plt.xscale('log')\n",
    "plt.legend()\n",
    "plt.ylabel(r'$\\Gamma_{n}^{d(p)c}$')\n",
    "plt.xlim(v_values[0], v_values[len(v_values)-1])\n",
    "plt.ylim(bottom=1e-90,top = 1e1)\n",
    "plt.legend(loc='lower right')\n",
    "plt.xlabel(r'$v$ (m s$^{-1}$)')\n",
    "plt.text(10**(-5.98), 10**(-6), '(a)', fontsize=12)\n",
    "plt.tight_layout()\n",
    "#plt.savefig('noise-dc-per-v-2.png', dpi=800)"
   ]
  },
  {
   "cell_type": "markdown",
   "metadata": {},
   "source": [
    "## Induced interferometer dipole"
   ]
  },
  {
   "cell_type": "code",
   "execution_count": 36,
   "metadata": {
    "scrolled": true
   },
   "outputs": [],
   "source": [
    "# Induced interferometer dipole\n",
    "def gamma_dc_ind(w, t_a, t_e, b, v):\n",
    "    int_cd_ind = w**(-1) * (np.sin(w*t_a/2))**4 * (np.sin((w/2)*(2*t_a+t_e)))**2 * ( (np.cos(alpha) * kv(5/2, (w*b)/v))**2 + (np.cos(beta) * kv(3/2, (w*b)/v))**2 )\n",
    "    return int_cd_ind\n",
    "\n",
    "def constant_dc_ind(b, v, t_a, eps, R, dx, T_avg):\n",
    "    c1 = ((eps-1)/(eps+2))**2 * e**4 * R**6 * dx**2\n",
    "    c2 = 32 * np.pi**2 * hbar**2 * epsilon_0**2 * v**7 * b**3 * t_a**4 * T_avg\n",
    "    return c1/c2\n",
    "\n",
    "# Specific for this setup\n",
    "alpha = 0\n",
    "beta = 0\n",
    "# v_values = np.logspace(-2.5, -1.5, 200) # Temperature values list\n",
    "# B_val = 0.1 # impact parameter\n",
    "v_values = np.logspace(-6, -4.9, 300)\n",
    "B_val = 1e-4\n",
    "\n",
    "# reset\n",
    "integral_values = [[],[],[]]\n",
    "integral_error = [[],[],[]]\n",
    "constants_values = [[],[],[]]\n",
    "\n",
    "for j in np.array([0,1,2]):\n",
    "    for i in v_values:\n",
    "        T_noise_val = T_n(i, B_val, 1)\n",
    "        R_val = R_list[j]*1e-6\n",
    "        res, err = quad(gamma_dc_ind, W_min, np.inf, args=(T_A_val, T_E_val, B_val, i))\n",
    "        integral_values[j].append(res)\n",
    "        integral_error[j].append(err)\n",
    "        constants_values[j].append(constant_dc_ind(B_val, i, T_A_val, eps_val, R_val, dX_val, T_noise_val))\n",
    "\n",
    "gamma_dc_ind = np.array(integral_values)*np.array(constants_values)"
   ]
  },
  {
   "cell_type": "markdown",
   "metadata": {},
   "source": [
    "#### Plot: different R"
   ]
  },
  {
   "cell_type": "code",
   "execution_count": 43,
   "metadata": {
    "scrolled": true
   },
   "outputs": [
    {
     "data": {
      "image/png": "[encoded data removed]",
      "text/plain": [
       "<Figure size 288x252 with 1 Axes>"
      ]
     },
     "metadata": {
      "needs_background": "light"
     },
     "output_type": "display_data"
    }
   ],
   "source": [
    "plt.figure(figsize=(4.0,3.5))\n",
    "plt.plot(v_values, gamma_dc_ind[0], 'k-', label=(f' R = {R_list[0]}' r' $\\mu$m'))\n",
    "plt.plot(v_values, gamma_dc_ind[1], 'r--', label=(f' R = {R_list[1]}' r' $\\mu$m'))\n",
    "plt.plot(v_values, gamma_dc_ind[2],  'g-.', label=(f' R = {R_list[2]}' r' $\\mu$m'))\n",
    "plt.yscale('log')\n",
    "plt.xscale('log')\n",
    "plt.ylabel(r'$\\Gamma_{n}^{d(i)c}$')\n",
    "plt.xlim(v_values[0], v_values[len(v_values)-1])\n",
    "plt.ylim(bottom=1e-90,top=max(gamma_dc_ind[0]))\n",
    "plt.legend(loc='lower right')\n",
    "plt.xlabel(r'$v$ (m s$^{-1}$)')\n",
    "plt.text(10**(-5.98), 10**(-12), '(b)', fontsize=12)\n",
    "plt.tight_layout()\n",
    "#plt.savefig('noise-dc-ind-v-2.png', dpi=800)"
   ]
  },
  {
   "cell_type": "markdown",
   "metadata": {},
   "source": [
    "## Dipole - dipole"
   ]
  },
  {
   "cell_type": "code",
   "execution_count": 5,
   "metadata": {
    "scrolled": true
   },
   "outputs": [],
   "source": [
    "# Dipole-dipole\n",
    "def gamma_dd(w, t_a, t_e, b, v):\n",
    "    int_dd = w**(-2) * (np.sin(w*t_a/2))**4 * (np.sin((w/2)*(2*t_a+t_e)))**2 * ( (np.cos(alpha) * kv(2, (w*b)/v))**2 + (np.cos(beta) * kv(1, (w*b)/v))**2 )\n",
    "    return int_dd\n",
    "\n",
    "def constant_dd(dip1, dip2, b, v, t_a, dx, T_n):\n",
    "    c1 = 4* dip1**2 * dip2**2 * dx**2 * np.cos(theta0)**2\n",
    "    c2 = np.pi**3 * hbar**2 * epsilon_0**2 * v**6 * b**2 * t_a**4 * T_n\n",
    "    return c1/c2\n",
    "\n",
    "# Specific for this setup\n",
    "alpha = np.pi/4\n",
    "beta = 0#np.pi/4\n",
    "theta0 = np.pi/4\n",
    "\n",
    "#v_values = np.logspace(-2.5, -1.5, 200) # Temperature values list\n",
    "#b_val_list = np.array([0.1, 1,10]) # impact parameter\n",
    "v_values = np.logspace(-6, -4.9, 300)\n",
    "b_val_list = np.array([100,30,1000])\n",
    "\n",
    "# reset\n",
    "integral_values = [[],[],[]]\n",
    "integral_error = [[],[],[]]\n",
    "constants_values = [[],[],[]]\n",
    "\n",
    "for j in np.array([0,1,2]):\n",
    "    for i in v_values:\n",
    "        B_value = b_val_list[j]*1e-6\n",
    "        T_noise_val = T_n(i, B_value, 1)\n",
    "        res, err = quad(gamma_dd, W_min, np.inf, args=(T_A_val, T_E_val, B_value, i))\n",
    "        integral_values[j].append(res)\n",
    "        integral_error[j].append(err)\n",
    "        constants_values[j].append(constant_dd(d_int_val, D_water_val, B_value, i, T_A_val, dX_val, T_noise_val))\n",
    "\n",
    "gamma_dd = np.array(integral_values)*np.array(constants_values)"
   ]
  },
  {
   "cell_type": "markdown",
   "metadata": {},
   "source": [
    "#### Plot"
   ]
  },
  {
   "cell_type": "code",
   "execution_count": 22,
   "metadata": {
    "scrolled": true
   },
   "outputs": [
    {
     "data": {
      "image/png": "[encoded data removed]",
      "text/plain": [
       "<Figure size 288x252 with 1 Axes>"
      ]
     },
     "metadata": {
      "needs_background": "light"
     },
     "output_type": "display_data"
    }
   ],
   "source": [
    "plt.figure(figsize=(4.0,3.5))\n",
    "plt.plot(v_values, gamma_dd[0], 'k-', label=(r'$b$' f' = {b_val_list[0]}' r'$\\mu$m'))\n",
    "plt.plot(v_values, gamma_dd[1], 'r--', label=(r'$b$' f' = {b_val_list[1]}' r'$\\mu$m'))\n",
    "#plt.plot(v_values, gamma_dd[2],  'g-.', label=(r'$b$' f' = {b_val_list[2]}m'))\n",
    "plt.yscale('log')\n",
    "plt.xscale('log')\n",
    "plt.ylabel(r'$\\Gamma_{n}^{dd}$')\n",
    "plt.xlim(v_values[0], v_values[len(v_values)-1])\n",
    "plt.ylim(bottom=10**(-160))\n",
    "plt.legend(loc='lower right')\n",
    "plt.xlabel(r'$v$ (m s$^{-1}$)')\n",
    "plt.text(10**(-5.98), 10**(-1), '(c)', fontsize=12)\n",
    "plt.tight_layout()\n",
    "#plt.savefig('noise-dd-v-2.png', dpi=800)"
   ]
  },
  {
   "cell_type": "code",
   "execution_count": 6,
   "metadata": {},
   "outputs": [
    {
     "data": {
      "image/png": "[encoded data removed]",
      "text/plain": [
       "<Figure size 288x252 with 1 Axes>"
      ]
     },
     "metadata": {
      "needs_background": "light"
     },
     "output_type": "display_data"
    }
   ],
   "source": [
    "plt.figure(figsize=(4.0,3.5))\n",
    "plt.plot(v_values, gamma_dd[0], 'k-', label=(r'$b$' f' = {b_val_list[0]}' r'$\\mu$m'))\n",
    "plt.plot(v_values, gamma_dd[1], 'r--', label=(r'$b$' f' = {b_val_list[1]}' r'$\\mu$m'))\n",
    "#plt.plot(v_values, gamma_dd[2],  'g-.', label=(r'$b$' f' = {b_val_list[2]}m'))\n",
    "plt.yscale('log')\n",
    "plt.xscale('log')\n",
    "plt.ylabel(r'$\\Gamma_{n}^{dd}$')\n",
    "plt.xlim(v_values[0], v_values[len(v_values)-1])\n",
    "plt.ylim(bottom=10**(-160))\n",
    "plt.legend(loc='lower right')\n",
    "plt.xlabel(r'$v$ (m s$^{-1}$)')\n",
    "plt.text(10**(-5.98), 10**(-1), '(c)', fontsize=12)\n",
    "plt.tight_layout()\n",
    "#plt.savefig('noise-dd-v-2.png', dpi=800)"
   ]
  },
  {
   "cell_type": "code",
   "execution_count": 45,
   "metadata": {},
   "outputs": [
    {
     "data": {
      "text/plain": [
       "86.42291136816935"
      ]
     },
     "execution_count": 45,
     "metadata": {},
     "output_type": "execute_result"
    }
   ],
   "source": [
    "max(gamma_dd[0])"
   ]
  },
  {
   "cell_type": "code",
   "execution_count": 57,
   "metadata": {},
   "outputs": [
    {
     "data": {
      "text/plain": [
       "1.1847486494428167e-28"
      ]
     },
     "execution_count": 57,
     "metadata": {},
     "output_type": "execute_result"
    }
   ],
   "source": [
    "max(gamma_dd[0])"
   ]
  },
  {
   "cell_type": "markdown",
   "metadata": {},
   "source": [
    "## All neutral interactions"
   ]
  },
  {
   "cell_type": "code",
   "execution_count": 28,
   "metadata": {},
   "outputs": [],
   "source": [
    "delta_x_vals = np.logspace(-9,-5,300)\n",
    "#np.arange(1,20,0.01) # in micron\n",
    "# vel = 0.03 # temperature\n",
    "# B_val = 0.1 # impact parameter\n",
    "vel = 1e-5 # temperature\n",
    "B_val = 1e-4 # impact parameter\n",
    "T_noise_val = T_n(vel, B_val, 1)\n",
    "R_val = 0.5*1e-6"
   ]
  },
  {
   "cell_type": "code",
   "execution_count": 29,
   "metadata": {},
   "outputs": [],
   "source": [
    "# Permanent interferometer dipole\n",
    "def gamma_dc_per(w, t_a, t_e, b, v):\n",
    "    f_W = w**(-6) * (np.sin(w*t_a/2))**4 * (np.sin((w/2)*(2*t_a+t_e)))**2\n",
    "    int_dc_per = w**(-2) * f_W * ( (kv(2, (w*b)/v))**2 + (2 + (w**2*b**2)/v**2)*(kv(1, (w*b)/v))**2 + (kv(0, (w*b)/v))**2 - 2*(w*b/v) * kv(0, (w*b)/v) * kv(1, (w*b)/v) )\n",
    "    return int_dc_per\n",
    "\n",
    "def constant_dc_per(b, v, t_a, dip, dx, T_avg):\n",
    "    c1 = e**2*dip**2*dx**2\n",
    "    c2 = 9*np.pi**3*hbar**2*epsilon_0**2*v**6*t_a**4*T_avg\n",
    "    return c1/c2\n",
    "\n",
    "# Reset\n",
    "integral_values = []\n",
    "constants_values = []\n",
    "\n",
    "for i in delta_x_vals:\n",
    "    del_x = i#*1e-6\n",
    "    res, err = quad(gamma_dc_per, W_min, np.inf, args=(T_A_val, T_E_val, B_val, vel))\n",
    "    integral_values.append(res)\n",
    "    constants_values.append(constant_dc_per(B_val, vel, T_A_val, d_int_val, del_x, T_noise_val))\n",
    "\n",
    "gamma_dc_per = np.array(integral_values)*np.array(constants_values)"
   ]
  },
  {
   "cell_type": "code",
   "execution_count": 30,
   "metadata": {},
   "outputs": [],
   "source": [
    "# Induced interferometer dipole\n",
    "def gamma_dc_ind(w, t_a, t_e, b, v):\n",
    "    int_cd_ind = w**(-1) * (np.sin(w*t_a/2))**4 * (np.sin((w/2)*(2*t_a+t_e)))**2 * ( (np.cos(alpha) * kv(5/2, (w*b)/v))**2 + (np.cos(beta) * kv(3/2, (w*b)/v))**2 )\n",
    "    return int_cd_ind\n",
    "\n",
    "def constant_dc_ind(b, v, t_a, eps, R, dx, T_avg):\n",
    "    c1 = ((eps-1)/(eps+2))**2 * e**4 * R**6 * dx**2\n",
    "    c2 = 32 * np.pi**2 * hbar**2 * epsilon_0**2 * v**7 * b**3 * t_a**4 * T_avg\n",
    "    return c1/c2\n",
    "\n",
    "# Reset\n",
    "integral_values = []\n",
    "constants_values = []\n",
    "\n",
    "# For this setup specific\n",
    "alpha = 0\n",
    "beta = 0\n",
    "\n",
    "for i in delta_x_vals:\n",
    "    del_x = i#*1e-6\n",
    "    res, err = quad(gamma_dc_ind, W_min, np.inf, args=(T_A_val, T_E_val, B_val, vel))\n",
    "    integral_values.append(res)\n",
    "    constants_values.append(constant_dc_ind(B_val, vel, T_A_val, eps_val, R_val, del_x, T_noise_val))\n",
    "\n",
    "gamma_dc_ind = np.array(integral_values)*np.array(constants_values)"
   ]
  },
  {
   "cell_type": "code",
   "execution_count": 31,
   "metadata": {},
   "outputs": [],
   "source": [
    "# Dipole-dipole\n",
    "def gamma_dd(w, t_a, t_e, b, v):\n",
    "    int_dd = w**(-2) * (np.sin(w*t_a/2))**4 * (np.sin((w/2)*(2*t_a+t_e)))**2 * ( (np.cos(alpha) * kv(2, (w*b)/v))**2 + (np.cos(beta) * kv(1, (w*b)/v))**2 )\n",
    "    return int_dd\n",
    "\n",
    "def constant_dd(dip1, dip2, b, v, t_a, dx, T_avg):\n",
    "    c1 = 4* dip1**2 * dip2**2 * dx**2 * np.cos(theta0)**2\n",
    "    c2 = np.pi**3 * hbar**2 * epsilon_0**2 * v**6 * b**2 * t_a**4 * T_avg\n",
    "    return c1/c2\n",
    "\n",
    "# Reset\n",
    "integral_values = []\n",
    "constants_values = []\n",
    "\n",
    "# For this setup specific\n",
    "alpha = np.pi/4\n",
    "beta = np.pi/4\n",
    "theta0 = np.pi/4\n",
    "\n",
    "for i in delta_x_vals:\n",
    "    del_x = i#*1e-6\n",
    "    res, err = quad(gamma_dd, W_min, np.inf, args=(T_A_val, T_E_val, B_val, vel))\n",
    "    integral_values.append(res)\n",
    "    constants_values.append(constant_dd(d_int_val, D_water_val, B_val, vel, T_A_val, del_x, T_noise_val))\n",
    "\n",
    "gamma_dd = np.array(integral_values)*np.array(constants_values)"
   ]
  },
  {
   "cell_type": "code",
   "execution_count": 36,
   "metadata": {},
   "outputs": [
    {
     "data": {
      "image/png": "[encoded data removed]",
      "text/plain": [
       "<Figure size 288x252 with 1 Axes>"
      ]
     },
     "metadata": {
      "needs_background": "light"
     },
     "output_type": "display_data"
    }
   ],
   "source": [
    "plt.figure(figsize=(4.0,3.5))\n",
    "plt.plot(delta_x_vals, gamma_dc_ind, 'k-', label=(r'$d(i)c$') )\n",
    "plt.plot(delta_x_vals, gamma_dc_per, 'r--', label=(r'$d(p)c$') )\n",
    "plt.plot(delta_x_vals, gamma_dd,  'g-.', label=(r'$dd$') )\n",
    "plt.yscale('log')\n",
    "plt.xscale('log')\n",
    "plt.legend()\n",
    "plt.ylabel(r'$\\Gamma_{n}$')\n",
    "plt.xlim(delta_x_vals[0], delta_x_vals[len(delta_x_vals)-1])\n",
    "plt.legend(loc='lower right')\n",
    "plt.xlabel(r'$\\Delta x$ (m)')\n",
    "plt.text(10**(-8.9), 10**(-4), '(d)', fontsize=12)\n",
    "plt.tight_layout()\n",
    "#plt.savefig('noise-neutral-delx-2.png', dpi=800)"
   ]
  },
  {
   "cell_type": "code",
   "execution_count": 61,
   "metadata": {},
   "outputs": [
    {
     "data": {
      "text/plain": [
       "0.02809037824747102"
      ]
     },
     "execution_count": 61,
     "metadata": {},
     "output_type": "execute_result"
    }
   ],
   "source": [
    "max(gamma_dc_per)"
   ]
  },
  {
   "cell_type": "code",
   "execution_count": 44,
   "metadata": {},
   "outputs": [
    {
     "data": {
      "text/plain": [
       "1557888559.018148"
      ]
     },
     "execution_count": 44,
     "metadata": {},
     "output_type": "execute_result"
    }
   ],
   "source": [
    "max(gamma_cc)"
   ]
  }
 ],
 "metadata": {
  "kernelspec": {
   "display_name": "Python 3 (ipykernel)",
   "language": "python",
   "name": "python3"
  },
  "language_info": {
   "codemirror_mode": {
    "name": "ipython",
    "version": 3
   },
   "file_extension": ".py",
   "mimetype": "text/x-python",
   "name": "python",
   "nbconvert_exporter": "python",
   "pygments_lexer": "ipython3",
   "version": "3.12.6"
  }
 },
 "nbformat": 4,
 "nbformat_minor": 4
}
